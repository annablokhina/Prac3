{
 "cells": [
  {
   "cell_type": "code",
   "execution_count": 3,
   "metadata": {
    "collapsed": true
   },
   "outputs": [],
   "source": [
    "import numpy as np\n",
    "import pandas as pd"
   ]
  },
  {
   "cell_type": "code",
   "execution_count": 5,
   "metadata": {
    "collapsed": true
   },
   "outputs": [],
   "source": [
    "b1_inv = pd.read_csv('MS-b1-inventory.csv')\n",
    "b1_sup = pd.read_csv('MS-b1-supply.csv')\n",
    "b1_sel = pd.read_csv('MS-b1-sell.csv')"
   ]
  },
  {
   "cell_type": "code",
   "execution_count": 2,
   "metadata": {
    "collapsed": true
   },
   "outputs": [],
   "source": [
    "def sell_upgrade(sell):\n",
    "    \n",
    "    sell_upg = pd.DataFrame(columns=['date', 'apple', 'pen'])  \n",
    "    apl = 0\n",
    "    pen = 0\n",
    "    pos = 0\n",
    "    length = len(sell) - 1\n",
    "       \n",
    "    for i in range(length):\n",
    "        letter = sell['sku_num'][i][6]\n",
    "        if letter == 'a':\n",
    "            apl = apl + 1\n",
    "        elif letter == 'p':\n",
    "            pen = pen + 1\n",
    "        date = sell['date'][i]\n",
    "        if date != sell['date'][i+1]:\n",
    "            sell_upg.at[pos, 'apple'] = apl\n",
    "            sell_upg.at[pos, 'pen'] = pen\n",
    "            sell_upg.at[pos, 'date'] = date\n",
    "            pos = pos + 1\n",
    "            apl = 0\n",
    "            pen = 0\n",
    "                \n",
    "    pos = pos + 1\n",
    "    letter = sell['sku_num'][length][6]\n",
    "    if letter == 'a':\n",
    "        sell_upg.at[pos, 'apple'] = apl + 1\n",
    "        sell_upg.at[pos, 'pen'] = pen\n",
    "    elif letter == 'p':\n",
    "        sell_upg.at[pos, 'apple'] = apl\n",
    "        sell_upg.at[pos, 'pen'] = pen + 1\n",
    "    sell_upg.at[pos, 'date'] = date\n",
    "        \n",
    "    return sell_upg"
   ]
  },
  {
   "cell_type": "code",
   "execution_count": null,
   "metadata": {
    "collapsed": true
   },
   "outputs": [],
   "source": []
  }
 ],
 "metadata": {
  "kernelspec": {
   "display_name": "Python 3",
   "language": "python",
   "name": "python3"
  },
  "language_info": {
   "codemirror_mode": {
    "name": "ipython",
    "version": 3
   },
   "file_extension": ".py",
   "mimetype": "text/x-python",
   "name": "python",
   "nbconvert_exporter": "python",
   "pygments_lexer": "ipython3",
   "version": "3.6.1"
  }
 },
 "nbformat": 4,
 "nbformat_minor": 2
}
