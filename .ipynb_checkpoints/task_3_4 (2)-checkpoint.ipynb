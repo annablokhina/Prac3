{
 "cells": [
  {
   "cell_type": "code",
   "execution_count": 10,
   "metadata": {
    "collapsed": true
   },
   "outputs": [],
   "source": [
    "import numpy as np\n",
    "import pandas as pd\n",
    "import glob as gb \n",
    "import os"
   ]
  },
  {
   "cell_type": "markdown",
   "metadata": {},
   "source": [
    "### Состояние склада на каждый день"
   ]
  },
  {
   "cell_type": "markdown",
   "metadata": {},
   "source": [
    "Создание имени файла"
   ]
  },
  {
   "cell_type": "code",
   "execution_count": 11,
   "metadata": {
    "collapsed": true
   },
   "outputs": [],
   "source": [
    "def create_filenames(letter, number):\n",
    "    \n",
    "    c = chr(ord('0') + number)\n",
    "    str_i = 'MS-' + letter + c + '-inventory.csv'\n",
    "    str_sl = 'MS-' + letter + c + '-sell.csv'\n",
    "    str_spl = 'MS-' + letter + c + '-supply.csv'\n",
    "    str_d = 'MS-' + letter + c + '-daily.csv'\n",
    "    return str_i, str_sl, str_spl, str_d"
   ]
  },
  {
   "cell_type": "markdown",
   "metadata": {},
   "source": [
    "Количество магазинов в штате"
   ]
  },
  {
   "cell_type": "code",
   "execution_count": 12,
   "metadata": {
    "collapsed": true
   },
   "outputs": [],
   "source": [
    "def num_shop(state):\n",
    "    \n",
    "    if state == 'b' or state == 'm':\n",
    "        max = 2\n",
    "    elif state == 's':\n",
    "        max = 5\n",
    "    return max"
   ]
  },
  {
   "cell_type": "code",
   "execution_count": 40,
   "metadata": {
    "collapsed": true
   },
   "outputs": [],
   "source": [
    "def get_files(state, path):\n",
    "    max = num_shop(state)\n",
    "    files = {}\n",
    "    path = {}\n",
    "    shop = 0\n",
    "    while shop < max:\n",
    "        c = chr(ord('0') + shop + 1)\n",
    "        path[shop] = gb.glob(path + state + c + '*.csv')\n",
    "        print(path[shop])\n",
    "        files[shop] = {}\n",
    "        for j in range(0, len(path[shop])):\n",
    "            files[shop][j]= pd.read_csv(path[shop][j])\n",
    "        shop = shop + 1\n",
    "    return files, max"
   ]
  },
  {
   "cell_type": "code",
   "execution_count": 47,
   "metadata": {},
   "outputs": [],
   "source": [
    "sold = {}\n",
    "def daily_stor(state, id):\n",
    "    \n",
    "    files, max = get_files(state, './input/*')\n",
    "    answer = {}\n",
    "    \n",
    "    INV = 0\n",
    "    SELL = 1\n",
    "    SPL = 2\n",
    "    DAILY = 3\n",
    "    \n",
    "    shop = 0\n",
    "    while shop < max:\n",
    "        \n",
    "        #print(files[shop][INV])\n",
    "        #print(files[shop][SPL])\n",
    "        files[shop][SELL]['date'] = pd.to_datetime(files[shop][SELL]['date'], format='%Y-%m-%d')\n",
    "        files[shop][INV]['date'] = pd.to_datetime(files[shop][INV]['date'], format='%Y-%m-%d')\n",
    "        files[shop][SPL]['date'] = pd.to_datetime(files[shop][SPL]['date'], format='%Y-%m-%d')\n",
    "        \n",
    "        files[shop][SELL]['sku_num'] = files[shop][SELL]['sku_num'].apply(lambda x: 0 if x.find('ap') == 6 else 1)\n",
    "        daily = pd.crosstab(files[shop][SELL]['date'], files[shop][SELL]['sku_num'], margins = True)\n",
    "        print(daily)\n",
    "        daily = daily.drop(['All'])\n",
    "        daily_new = pd.DataFrame(columns=['date', 'apple', 'pen'])\n",
    "        daily_new['date'] = files[shop][SELL]['date'].drop_duplicates()\n",
    "        daily_new['apple'] = daily[0].values\n",
    "        daily_new['pen'] = daily[1].values\n",
    "        daily_new.index = range(0, daily[0].size)\n",
    "        \n",
    "        sold[id] += daily_new\n",
    "        print(daily_new.head())\n",
    "        \n",
    "        daily_new.index = files[shop][SELL]['date'].drop_duplicates()\n",
    "        daily_new = daily_new.drop(['date'], axis=1)\n",
    "        daily_new['apple'] = -daily_new['apple']\n",
    "        daily_new['pen'] = -daily_new['pen']\n",
    "        \n",
    "        files[shop][SPL].index = files[shop][SPL].date\n",
    "        files[shop][SPL] = files[shop][SPL].drop(['date'], axis=1)\n",
    "        \n",
    "        df = pd.concat([files[shop][SPL], daily_new]).sort_index()\n",
    "        df = df.resample('D').sum()\n",
    "        \n",
    "        l = df.index.size\n",
    "        df['apple_sum'] = df['apple'].rolling(str(l) + 'D').sum()\n",
    "        df['pen_sum'] = df['pen'].rolling(str(l) + 'D').sum()\n",
    "        df = df.drop(['apple', 'pen'], axis=1)\n",
    "        df = df.rename(columns={'apple_sum': 'apple', 'pen_sum': 'pen'})\n",
    "        print(df.head())\n",
    "        \n",
    "        \n",
    "        name = create_filenames(state, shop + 1)[DAILY]\n",
    "        df.to_csv('answer/' + name, index=False)\n",
    "        answer[shop] = df\n",
    "        shop = shop + 1\n",
    "        \n",
    "    return answer\n",
    "    "
   ]
  },
  {
   "cell_type": "code",
   "execution_count": 33,
   "metadata": {},
   "outputs": [
    {
     "name": "stdout",
     "output_type": "stream",
     "text": [
      "['./input/MS-b1-sell.csv', './input/MS-b1-inventory.csv', './input/MS-b1-supply.csv']\n",
      "['./input/MS-b2-supply.csv', './input/MS-b2-sell.csv', './input/MS-b2-inventory.csv']\n",
      "sku_num                    0       1      All\n",
      "date                                         \n",
      "2006-01-01 00:00:00     1815     156     1971\n",
      "2006-01-02 00:00:00     1862     143     2005\n",
      "2006-01-03 00:00:00     1880     171     2051\n",
      "2006-01-04 00:00:00     1797     153     1950\n",
      "2006-01-05 00:00:00     1942     133     2075\n",
      "2006-01-06 00:00:00     1898     149     2047\n",
      "2006-01-07 00:00:00     1895     138     2033\n",
      "2006-01-08 00:00:00     1836     120     1956\n",
      "2006-01-09 00:00:00     1868     125     1993\n",
      "2006-01-10 00:00:00     1879     156     2035\n",
      "2006-01-11 00:00:00     1796     151     1947\n",
      "2006-01-12 00:00:00     1915     140     2055\n",
      "2006-01-13 00:00:00     1920     136     2056\n",
      "2006-01-14 00:00:00     1872     161     2033\n",
      "2006-01-15 00:00:00     1822     144     1966\n",
      "2006-01-16 00:00:00     1894     160     2054\n",
      "2006-01-17 00:00:00     1908     142     2050\n",
      "2006-01-18 00:00:00     1840     150     1990\n",
      "2006-01-19 00:00:00     1972     146     2118\n",
      "2006-01-20 00:00:00     1861     146     2007\n",
      "2006-01-21 00:00:00     1823     132     1955\n",
      "2006-01-22 00:00:00     1910     152     2062\n",
      "2006-01-23 00:00:00     1834     151     1985\n",
      "2006-01-24 00:00:00     1849     158     2007\n",
      "2006-01-25 00:00:00     1927     166     2093\n",
      "2006-01-26 00:00:00     1882     156     2038\n",
      "2006-01-27 00:00:00     1797     125     1922\n",
      "2006-01-28 00:00:00     1848     159     2007\n",
      "2006-01-29 00:00:00     1874     128     2002\n",
      "2006-01-30 00:00:00     1878     140     2018\n",
      "...                      ...     ...      ...\n",
      "2015-12-03 00:00:00     1825     147     1972\n",
      "2015-12-04 00:00:00     1815     131     1946\n",
      "2015-12-05 00:00:00     1899     148     2047\n",
      "2015-12-06 00:00:00     1875     138     2013\n",
      "2015-12-07 00:00:00     1908     149     2057\n",
      "2015-12-08 00:00:00     1829     134     1963\n",
      "2015-12-09 00:00:00     1849     147     1996\n",
      "2015-12-10 00:00:00     1868     176     2044\n",
      "2015-12-11 00:00:00     1943     158     2101\n",
      "2015-12-12 00:00:00     1959     143     2102\n",
      "2015-12-13 00:00:00     1931     152     2083\n",
      "2015-12-14 00:00:00     1844     147     1991\n",
      "2015-12-15 00:00:00     1826     125     1951\n",
      "2015-12-16 00:00:00     1937     147     2084\n",
      "2015-12-17 00:00:00     1837     140     1977\n",
      "2015-12-18 00:00:00     1867     138     2005\n",
      "2015-12-19 00:00:00     1889     147     2036\n",
      "2015-12-20 00:00:00     1877     153     2030\n",
      "2015-12-21 00:00:00     1856     137     1993\n",
      "2015-12-22 00:00:00     1766     127     1893\n",
      "2015-12-23 00:00:00     1861     145     2006\n",
      "2015-12-24 00:00:00     1963     135     2098\n",
      "2015-12-25 00:00:00     1823     146     1969\n",
      "2015-12-26 00:00:00     1857     148     2005\n",
      "2015-12-27 00:00:00     1831     152     1983\n",
      "2015-12-28 00:00:00     1797     160     1957\n",
      "2015-12-29 00:00:00     1840     139     1979\n",
      "2015-12-30 00:00:00     1820     140     1960\n",
      "2015-12-31 00:00:00     1884     124     2008\n",
      "All                  6826064  522290  7348354\n",
      "\n",
      "[3653 rows x 3 columns]\n",
      "        date  apple  pen\n",
      "0 2006-01-01   1815  156\n",
      "1 2006-01-02   1862  143\n",
      "2 2006-01-03   1880  171\n",
      "3 2006-01-04   1797  153\n",
      "4 2006-01-05   1942  133\n",
      "              apple     pen\n",
      "date                       \n",
      "2006-01-01  33271.0  2574.0\n",
      "2006-01-02  31409.0  2431.0\n",
      "2006-01-03  29529.0  2260.0\n",
      "2006-01-04  27732.0  2107.0\n",
      "2006-01-05  25790.0  1974.0\n"
     ]
    },
    {
     "ename": "KeyError",
     "evalue": "'sku_num'",
     "output_type": "error",
     "traceback": [
      "\u001b[0;31m---------------------------------------------------------------------------\u001b[0m",
      "\u001b[0;31mKeyError\u001b[0m                                  Traceback (most recent call last)",
      "\u001b[0;32m/anaconda/lib/python3.6/site-packages/pandas/core/indexes/base.py\u001b[0m in \u001b[0;36mget_loc\u001b[0;34m(self, key, method, tolerance)\u001b[0m\n\u001b[1;32m   2521\u001b[0m             \u001b[0;32mtry\u001b[0m\u001b[0;34m:\u001b[0m\u001b[0;34m\u001b[0m\u001b[0m\n\u001b[0;32m-> 2522\u001b[0;31m                 \u001b[0;32mreturn\u001b[0m \u001b[0mself\u001b[0m\u001b[0;34m.\u001b[0m\u001b[0m_engine\u001b[0m\u001b[0;34m.\u001b[0m\u001b[0mget_loc\u001b[0m\u001b[0;34m(\u001b[0m\u001b[0mkey\u001b[0m\u001b[0;34m)\u001b[0m\u001b[0;34m\u001b[0m\u001b[0m\n\u001b[0m\u001b[1;32m   2523\u001b[0m             \u001b[0;32mexcept\u001b[0m \u001b[0mKeyError\u001b[0m\u001b[0;34m:\u001b[0m\u001b[0;34m\u001b[0m\u001b[0m\n",
      "\u001b[0;32mpandas/_libs/index.pyx\u001b[0m in \u001b[0;36mpandas._libs.index.IndexEngine.get_loc\u001b[0;34m()\u001b[0m\n",
      "\u001b[0;32mpandas/_libs/index.pyx\u001b[0m in \u001b[0;36mpandas._libs.index.IndexEngine.get_loc\u001b[0;34m()\u001b[0m\n",
      "\u001b[0;32mpandas/_libs/hashtable_class_helper.pxi\u001b[0m in \u001b[0;36mpandas._libs.hashtable.PyObjectHashTable.get_item\u001b[0;34m()\u001b[0m\n",
      "\u001b[0;32mpandas/_libs/hashtable_class_helper.pxi\u001b[0m in \u001b[0;36mpandas._libs.hashtable.PyObjectHashTable.get_item\u001b[0;34m()\u001b[0m\n",
      "\u001b[0;31mKeyError\u001b[0m: 'sku_num'",
      "\nDuring handling of the above exception, another exception occurred:\n",
      "\u001b[0;31mKeyError\u001b[0m                                  Traceback (most recent call last)",
      "\u001b[0;32m<ipython-input-33-446d29325a56>\u001b[0m in \u001b[0;36m<module>\u001b[0;34m()\u001b[0m\n\u001b[1;32m      8\u001b[0m     \u001b[0mprint\u001b[0m\u001b[0;34m(\u001b[0m\u001b[0mdaily_s\u001b[0m\u001b[0;34m)\u001b[0m\u001b[0;34m\u001b[0m\u001b[0m\n\u001b[1;32m      9\u001b[0m \u001b[0;34m\u001b[0m\u001b[0m\n\u001b[0;32m---> 10\u001b[0;31m \u001b[0mmain\u001b[0m\u001b[0;34m(\u001b[0m\u001b[0;34m)\u001b[0m\u001b[0;34m\u001b[0m\u001b[0m\n\u001b[0m\u001b[1;32m     11\u001b[0m \u001b[0;34m\u001b[0m\u001b[0m\n",
      "\u001b[0;32m<ipython-input-33-446d29325a56>\u001b[0m in \u001b[0;36mmain\u001b[0;34m()\u001b[0m\n\u001b[1;32m      1\u001b[0m \u001b[0;32mdef\u001b[0m \u001b[0mmain\u001b[0m\u001b[0;34m(\u001b[0m\u001b[0;34m)\u001b[0m\u001b[0;34m:\u001b[0m\u001b[0;34m\u001b[0m\u001b[0m\n\u001b[1;32m      2\u001b[0m \u001b[0;34m\u001b[0m\u001b[0m\n\u001b[0;32m----> 3\u001b[0;31m     \u001b[0mdaily_b\u001b[0m \u001b[0;34m=\u001b[0m \u001b[0mdaily_stor\u001b[0m\u001b[0;34m(\u001b[0m\u001b[0;34m'b'\u001b[0m\u001b[0;34m)\u001b[0m\u001b[0;34m\u001b[0m\u001b[0m\n\u001b[0m\u001b[1;32m      4\u001b[0m     \u001b[0mprint\u001b[0m\u001b[0;34m(\u001b[0m\u001b[0mdaily_b\u001b[0m\u001b[0;34m)\u001b[0m\u001b[0;34m\u001b[0m\u001b[0m\n\u001b[1;32m      5\u001b[0m     \u001b[0mdaily_m\u001b[0m \u001b[0;34m=\u001b[0m \u001b[0mdaily_stor\u001b[0m\u001b[0;34m(\u001b[0m\u001b[0;34m'm'\u001b[0m\u001b[0;34m)\u001b[0m\u001b[0;34m\u001b[0m\u001b[0m\n",
      "\u001b[0;32m<ipython-input-32-c3224bc60684>\u001b[0m in \u001b[0;36mdaily_stor\u001b[0;34m(state)\u001b[0m\n\u001b[1;32m     28\u001b[0m         \u001b[0mfiles\u001b[0m\u001b[0;34m[\u001b[0m\u001b[0mshop\u001b[0m\u001b[0;34m]\u001b[0m\u001b[0;34m[\u001b[0m\u001b[0mSPL\u001b[0m\u001b[0;34m]\u001b[0m\u001b[0;34m[\u001b[0m\u001b[0;34m'date'\u001b[0m\u001b[0;34m]\u001b[0m \u001b[0;34m=\u001b[0m \u001b[0mpd\u001b[0m\u001b[0;34m.\u001b[0m\u001b[0mto_datetime\u001b[0m\u001b[0;34m(\u001b[0m\u001b[0mfiles\u001b[0m\u001b[0;34m[\u001b[0m\u001b[0mshop\u001b[0m\u001b[0;34m]\u001b[0m\u001b[0;34m[\u001b[0m\u001b[0mSPL\u001b[0m\u001b[0;34m]\u001b[0m\u001b[0;34m[\u001b[0m\u001b[0;34m'date'\u001b[0m\u001b[0;34m]\u001b[0m\u001b[0;34m,\u001b[0m \u001b[0mformat\u001b[0m\u001b[0;34m=\u001b[0m\u001b[0;34m'%Y-%m-%d'\u001b[0m\u001b[0;34m)\u001b[0m\u001b[0;34m\u001b[0m\u001b[0m\n\u001b[1;32m     29\u001b[0m \u001b[0;34m\u001b[0m\u001b[0m\n\u001b[0;32m---> 30\u001b[0;31m         \u001b[0mfiles\u001b[0m\u001b[0;34m[\u001b[0m\u001b[0mshop\u001b[0m\u001b[0;34m]\u001b[0m\u001b[0;34m[\u001b[0m\u001b[0mSELL\u001b[0m\u001b[0;34m]\u001b[0m\u001b[0;34m[\u001b[0m\u001b[0;34m'sku_num'\u001b[0m\u001b[0;34m]\u001b[0m \u001b[0;34m=\u001b[0m \u001b[0mfiles\u001b[0m\u001b[0;34m[\u001b[0m\u001b[0mshop\u001b[0m\u001b[0;34m]\u001b[0m\u001b[0;34m[\u001b[0m\u001b[0mSELL\u001b[0m\u001b[0;34m]\u001b[0m\u001b[0;34m[\u001b[0m\u001b[0;34m'sku_num'\u001b[0m\u001b[0;34m]\u001b[0m\u001b[0;34m.\u001b[0m\u001b[0mapply\u001b[0m\u001b[0;34m(\u001b[0m\u001b[0;32mlambda\u001b[0m \u001b[0mx\u001b[0m\u001b[0;34m:\u001b[0m \u001b[0;36m0\u001b[0m \u001b[0;32mif\u001b[0m \u001b[0mx\u001b[0m\u001b[0;34m.\u001b[0m\u001b[0mfind\u001b[0m\u001b[0;34m(\u001b[0m\u001b[0;34m'ap'\u001b[0m\u001b[0;34m)\u001b[0m \u001b[0;34m==\u001b[0m \u001b[0;36m6\u001b[0m \u001b[0;32melse\u001b[0m \u001b[0;36m1\u001b[0m\u001b[0;34m)\u001b[0m\u001b[0;34m\u001b[0m\u001b[0m\n\u001b[0m\u001b[1;32m     31\u001b[0m         \u001b[0mdaily\u001b[0m \u001b[0;34m=\u001b[0m \u001b[0mpd\u001b[0m\u001b[0;34m.\u001b[0m\u001b[0mcrosstab\u001b[0m\u001b[0;34m(\u001b[0m\u001b[0mfiles\u001b[0m\u001b[0;34m[\u001b[0m\u001b[0mshop\u001b[0m\u001b[0;34m]\u001b[0m\u001b[0;34m[\u001b[0m\u001b[0mSELL\u001b[0m\u001b[0;34m]\u001b[0m\u001b[0;34m[\u001b[0m\u001b[0;34m'date'\u001b[0m\u001b[0;34m]\u001b[0m\u001b[0;34m,\u001b[0m \u001b[0mfiles\u001b[0m\u001b[0;34m[\u001b[0m\u001b[0mshop\u001b[0m\u001b[0;34m]\u001b[0m\u001b[0;34m[\u001b[0m\u001b[0mSELL\u001b[0m\u001b[0;34m]\u001b[0m\u001b[0;34m[\u001b[0m\u001b[0;34m'sku_num'\u001b[0m\u001b[0;34m]\u001b[0m\u001b[0;34m,\u001b[0m \u001b[0mmargins\u001b[0m \u001b[0;34m=\u001b[0m \u001b[0;32mTrue\u001b[0m\u001b[0;34m)\u001b[0m\u001b[0;34m\u001b[0m\u001b[0m\n\u001b[1;32m     32\u001b[0m         \u001b[0mprint\u001b[0m\u001b[0;34m(\u001b[0m\u001b[0mdaily\u001b[0m\u001b[0;34m)\u001b[0m\u001b[0;34m\u001b[0m\u001b[0m\n",
      "\u001b[0;32m/anaconda/lib/python3.6/site-packages/pandas/core/frame.py\u001b[0m in \u001b[0;36m__getitem__\u001b[0;34m(self, key)\u001b[0m\n\u001b[1;32m   2137\u001b[0m             \u001b[0;32mreturn\u001b[0m \u001b[0mself\u001b[0m\u001b[0;34m.\u001b[0m\u001b[0m_getitem_multilevel\u001b[0m\u001b[0;34m(\u001b[0m\u001b[0mkey\u001b[0m\u001b[0;34m)\u001b[0m\u001b[0;34m\u001b[0m\u001b[0m\n\u001b[1;32m   2138\u001b[0m         \u001b[0;32melse\u001b[0m\u001b[0;34m:\u001b[0m\u001b[0;34m\u001b[0m\u001b[0m\n\u001b[0;32m-> 2139\u001b[0;31m             \u001b[0;32mreturn\u001b[0m \u001b[0mself\u001b[0m\u001b[0;34m.\u001b[0m\u001b[0m_getitem_column\u001b[0m\u001b[0;34m(\u001b[0m\u001b[0mkey\u001b[0m\u001b[0;34m)\u001b[0m\u001b[0;34m\u001b[0m\u001b[0m\n\u001b[0m\u001b[1;32m   2140\u001b[0m \u001b[0;34m\u001b[0m\u001b[0m\n\u001b[1;32m   2141\u001b[0m     \u001b[0;32mdef\u001b[0m \u001b[0m_getitem_column\u001b[0m\u001b[0;34m(\u001b[0m\u001b[0mself\u001b[0m\u001b[0;34m,\u001b[0m \u001b[0mkey\u001b[0m\u001b[0;34m)\u001b[0m\u001b[0;34m:\u001b[0m\u001b[0;34m\u001b[0m\u001b[0m\n",
      "\u001b[0;32m/anaconda/lib/python3.6/site-packages/pandas/core/frame.py\u001b[0m in \u001b[0;36m_getitem_column\u001b[0;34m(self, key)\u001b[0m\n\u001b[1;32m   2144\u001b[0m         \u001b[0;31m# get column\u001b[0m\u001b[0;34m\u001b[0m\u001b[0;34m\u001b[0m\u001b[0m\n\u001b[1;32m   2145\u001b[0m         \u001b[0;32mif\u001b[0m \u001b[0mself\u001b[0m\u001b[0;34m.\u001b[0m\u001b[0mcolumns\u001b[0m\u001b[0;34m.\u001b[0m\u001b[0mis_unique\u001b[0m\u001b[0;34m:\u001b[0m\u001b[0;34m\u001b[0m\u001b[0m\n\u001b[0;32m-> 2146\u001b[0;31m             \u001b[0;32mreturn\u001b[0m \u001b[0mself\u001b[0m\u001b[0;34m.\u001b[0m\u001b[0m_get_item_cache\u001b[0m\u001b[0;34m(\u001b[0m\u001b[0mkey\u001b[0m\u001b[0;34m)\u001b[0m\u001b[0;34m\u001b[0m\u001b[0m\n\u001b[0m\u001b[1;32m   2147\u001b[0m \u001b[0;34m\u001b[0m\u001b[0m\n\u001b[1;32m   2148\u001b[0m         \u001b[0;31m# duplicate columns & possible reduce dimensionality\u001b[0m\u001b[0;34m\u001b[0m\u001b[0;34m\u001b[0m\u001b[0m\n",
      "\u001b[0;32m/anaconda/lib/python3.6/site-packages/pandas/core/generic.py\u001b[0m in \u001b[0;36m_get_item_cache\u001b[0;34m(self, item)\u001b[0m\n\u001b[1;32m   1840\u001b[0m         \u001b[0mres\u001b[0m \u001b[0;34m=\u001b[0m \u001b[0mcache\u001b[0m\u001b[0;34m.\u001b[0m\u001b[0mget\u001b[0m\u001b[0;34m(\u001b[0m\u001b[0mitem\u001b[0m\u001b[0;34m)\u001b[0m\u001b[0;34m\u001b[0m\u001b[0m\n\u001b[1;32m   1841\u001b[0m         \u001b[0;32mif\u001b[0m \u001b[0mres\u001b[0m \u001b[0;32mis\u001b[0m \u001b[0;32mNone\u001b[0m\u001b[0;34m:\u001b[0m\u001b[0;34m\u001b[0m\u001b[0m\n\u001b[0;32m-> 1842\u001b[0;31m             \u001b[0mvalues\u001b[0m \u001b[0;34m=\u001b[0m \u001b[0mself\u001b[0m\u001b[0;34m.\u001b[0m\u001b[0m_data\u001b[0m\u001b[0;34m.\u001b[0m\u001b[0mget\u001b[0m\u001b[0;34m(\u001b[0m\u001b[0mitem\u001b[0m\u001b[0;34m)\u001b[0m\u001b[0;34m\u001b[0m\u001b[0m\n\u001b[0m\u001b[1;32m   1843\u001b[0m             \u001b[0mres\u001b[0m \u001b[0;34m=\u001b[0m \u001b[0mself\u001b[0m\u001b[0;34m.\u001b[0m\u001b[0m_box_item_values\u001b[0m\u001b[0;34m(\u001b[0m\u001b[0mitem\u001b[0m\u001b[0;34m,\u001b[0m \u001b[0mvalues\u001b[0m\u001b[0;34m)\u001b[0m\u001b[0;34m\u001b[0m\u001b[0m\n\u001b[1;32m   1844\u001b[0m             \u001b[0mcache\u001b[0m\u001b[0;34m[\u001b[0m\u001b[0mitem\u001b[0m\u001b[0;34m]\u001b[0m \u001b[0;34m=\u001b[0m \u001b[0mres\u001b[0m\u001b[0;34m\u001b[0m\u001b[0m\n",
      "\u001b[0;32m/anaconda/lib/python3.6/site-packages/pandas/core/internals.py\u001b[0m in \u001b[0;36mget\u001b[0;34m(self, item, fastpath)\u001b[0m\n\u001b[1;32m   3836\u001b[0m \u001b[0;34m\u001b[0m\u001b[0m\n\u001b[1;32m   3837\u001b[0m             \u001b[0;32mif\u001b[0m \u001b[0;32mnot\u001b[0m \u001b[0misna\u001b[0m\u001b[0;34m(\u001b[0m\u001b[0mitem\u001b[0m\u001b[0;34m)\u001b[0m\u001b[0;34m:\u001b[0m\u001b[0;34m\u001b[0m\u001b[0m\n\u001b[0;32m-> 3838\u001b[0;31m                 \u001b[0mloc\u001b[0m \u001b[0;34m=\u001b[0m \u001b[0mself\u001b[0m\u001b[0;34m.\u001b[0m\u001b[0mitems\u001b[0m\u001b[0;34m.\u001b[0m\u001b[0mget_loc\u001b[0m\u001b[0;34m(\u001b[0m\u001b[0mitem\u001b[0m\u001b[0;34m)\u001b[0m\u001b[0;34m\u001b[0m\u001b[0m\n\u001b[0m\u001b[1;32m   3839\u001b[0m             \u001b[0;32melse\u001b[0m\u001b[0;34m:\u001b[0m\u001b[0;34m\u001b[0m\u001b[0m\n\u001b[1;32m   3840\u001b[0m                 \u001b[0mindexer\u001b[0m \u001b[0;34m=\u001b[0m \u001b[0mnp\u001b[0m\u001b[0;34m.\u001b[0m\u001b[0marange\u001b[0m\u001b[0;34m(\u001b[0m\u001b[0mlen\u001b[0m\u001b[0;34m(\u001b[0m\u001b[0mself\u001b[0m\u001b[0;34m.\u001b[0m\u001b[0mitems\u001b[0m\u001b[0;34m)\u001b[0m\u001b[0;34m)\u001b[0m\u001b[0;34m[\u001b[0m\u001b[0misna\u001b[0m\u001b[0;34m(\u001b[0m\u001b[0mself\u001b[0m\u001b[0;34m.\u001b[0m\u001b[0mitems\u001b[0m\u001b[0;34m)\u001b[0m\u001b[0;34m]\u001b[0m\u001b[0;34m\u001b[0m\u001b[0m\n",
      "\u001b[0;32m/anaconda/lib/python3.6/site-packages/pandas/core/indexes/base.py\u001b[0m in \u001b[0;36mget_loc\u001b[0;34m(self, key, method, tolerance)\u001b[0m\n\u001b[1;32m   2522\u001b[0m                 \u001b[0;32mreturn\u001b[0m \u001b[0mself\u001b[0m\u001b[0;34m.\u001b[0m\u001b[0m_engine\u001b[0m\u001b[0;34m.\u001b[0m\u001b[0mget_loc\u001b[0m\u001b[0;34m(\u001b[0m\u001b[0mkey\u001b[0m\u001b[0;34m)\u001b[0m\u001b[0;34m\u001b[0m\u001b[0m\n\u001b[1;32m   2523\u001b[0m             \u001b[0;32mexcept\u001b[0m \u001b[0mKeyError\u001b[0m\u001b[0;34m:\u001b[0m\u001b[0;34m\u001b[0m\u001b[0m\n\u001b[0;32m-> 2524\u001b[0;31m                 \u001b[0;32mreturn\u001b[0m \u001b[0mself\u001b[0m\u001b[0;34m.\u001b[0m\u001b[0m_engine\u001b[0m\u001b[0;34m.\u001b[0m\u001b[0mget_loc\u001b[0m\u001b[0;34m(\u001b[0m\u001b[0mself\u001b[0m\u001b[0;34m.\u001b[0m\u001b[0m_maybe_cast_indexer\u001b[0m\u001b[0;34m(\u001b[0m\u001b[0mkey\u001b[0m\u001b[0;34m)\u001b[0m\u001b[0;34m)\u001b[0m\u001b[0;34m\u001b[0m\u001b[0m\n\u001b[0m\u001b[1;32m   2525\u001b[0m \u001b[0;34m\u001b[0m\u001b[0m\n\u001b[1;32m   2526\u001b[0m         \u001b[0mindexer\u001b[0m \u001b[0;34m=\u001b[0m \u001b[0mself\u001b[0m\u001b[0;34m.\u001b[0m\u001b[0mget_indexer\u001b[0m\u001b[0;34m(\u001b[0m\u001b[0;34m[\u001b[0m\u001b[0mkey\u001b[0m\u001b[0;34m]\u001b[0m\u001b[0;34m,\u001b[0m \u001b[0mmethod\u001b[0m\u001b[0;34m=\u001b[0m\u001b[0mmethod\u001b[0m\u001b[0;34m,\u001b[0m \u001b[0mtolerance\u001b[0m\u001b[0;34m=\u001b[0m\u001b[0mtolerance\u001b[0m\u001b[0;34m)\u001b[0m\u001b[0;34m\u001b[0m\u001b[0m\n",
      "\u001b[0;32mpandas/_libs/index.pyx\u001b[0m in \u001b[0;36mpandas._libs.index.IndexEngine.get_loc\u001b[0;34m()\u001b[0m\n",
      "\u001b[0;32mpandas/_libs/index.pyx\u001b[0m in \u001b[0;36mpandas._libs.index.IndexEngine.get_loc\u001b[0;34m()\u001b[0m\n",
      "\u001b[0;32mpandas/_libs/hashtable_class_helper.pxi\u001b[0m in \u001b[0;36mpandas._libs.hashtable.PyObjectHashTable.get_item\u001b[0;34m()\u001b[0m\n",
      "\u001b[0;32mpandas/_libs/hashtable_class_helper.pxi\u001b[0m in \u001b[0;36mpandas._libs.hashtable.PyObjectHashTable.get_item\u001b[0;34m()\u001b[0m\n",
      "\u001b[0;31mKeyError\u001b[0m: 'sku_num'"
     ]
    }
   ],
   "source": [
    "daily_b = daily_stor('b', 0)\n",
    "print(daily_b)\n",
    "daily_m = daily_stor('m', 1)\n",
    "print(daily_m)\n",
    "daily_s = daily_stor('s', 2)\n",
    "print(daily_s)"
   ]
  },
  {
   "cell_type": "code",
   "execution_count": 48,
   "metadata": {
    "collapsed": true
   },
   "outputs": [],
   "source": [
    "def year_table():\n",
    "    states = ['b', 'm', 's']\n",
    "    res = {}\n",
    "    t = {}\n",
    "    for i in range (0, 3):\n",
    "        t[i] = sold[i].resample('Y').sum()\n",
    "        stolen[i] = stolen[i].resample('Y').sum()\n",
    "        t[i].insert(3, 'apple_stolen',stolen[i][1])\n",
    "        t[i].insert(5, 'pen_stolen',stolen[i][2])\n",
    "        t[i].insert(1, 'state', states[i])\n",
    "        \n",
    "        \n",
    "    res = pd.concat([t[0], t[1], t[2]]).sort_index()"
   ]
  },
  {
   "cell_type": "code",
   "execution_count": 46,
   "metadata": {},
   "outputs": [],
   "source": [
    "def check_res():\n",
    "    states = ['b', 'm', 's']\n",
    "    for state in states:\n",
    "        right_ansm, maxou = get_files(state, './output/*')\n",
    "        our_ans, maxa = get_files(state, './answer/*') \n",
    "        for i in range (0, maxou):\n",
    "            if (right_ansm[i] != our_ans[i]):\n",
    "                print('ответы не сошлись')"
   ]
  }
 ],
 "metadata": {
  "kernelspec": {
   "display_name": "Python 3",
   "language": "python",
   "name": "python3"
  },
  "language_info": {
   "codemirror_mode": {
    "name": "ipython",
    "version": 3
   },
   "file_extension": ".py",
   "mimetype": "text/x-python",
   "name": "python",
   "nbconvert_exporter": "python",
   "pygments_lexer": "ipython3",
   "version": "3.6.1"
  }
 },
 "nbformat": 4,
 "nbformat_minor": 2
}
